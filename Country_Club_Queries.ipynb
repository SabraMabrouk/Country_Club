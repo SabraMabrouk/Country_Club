{
 "cells": [
  {
   "cell_type": "markdown",
   "id": "777a33c7-71a5-4897-be8e-1f192285e089",
   "metadata": {},
   "source": [
    "***Connect to the database***"
   ]
  },
  {
   "cell_type": "code",
   "execution_count": 5,
   "id": "fee0729b-03af-40bb-aa74-5b30736446ea",
   "metadata": {},
   "outputs": [],
   "source": [
    "import sqlite3\n",
    "conn = sqlite3.connect('sqlite_db_pythonsqlite.db')\n"
   ]
  },
  {
   "cell_type": "markdown",
   "id": "d932931b-8fa3-4d9b-b00c-4873d57e885a",
   "metadata": {},
   "source": [
    "***Create a cursor object***"
   ]
  },
  {
   "cell_type": "code",
   "execution_count": 8,
   "id": "1c13b586-6aab-4781-ab9b-c4e2c70e93c2",
   "metadata": {},
   "outputs": [],
   "source": [
    "curs = conn.cursor()"
   ]
  },
  {
   "cell_type": "markdown",
   "id": "5166f597-6381-44ad-8433-f8a57754b00a",
   "metadata": {},
   "source": [
    "## Query execution\n",
    "***Q10***: Produce a list of facilities with a total revenue less than 1000. The output of facility name and total revenue, sorted by revenue. Remember\n",
    "that there's a different cost for guests and members! \n"
   ]
  },
  {
   "cell_type": "code",
   "execution_count": 29,
   "id": "a63abb1f-d219-44a3-9792-7b8937b56dde",
   "metadata": {},
   "outputs": [
    {
     "name": "stdout",
     "output_type": "stream",
     "text": [
      "('Table Tennis', 180)\n",
      "('Snooker Table', 240)\n",
      "('Pool Table', 270)\n"
     ]
    }
   ],
   "source": [
    "sql_query10 = \"SELECT  f.name,SUM(CASE WHEN b.memid = 0 THEN f.guestcost * b.slots \\\n",
    "           \t\t ELSE f.membercost * b.slots END) AS 'Total Revenue'\t\\\n",
    "FROM Bookings AS b \\\n",
    "INNER JOIN Facilities AS f \\\n",
    "ON b.facid = f.facid \\\n",
    "GROUP BY b.facid \\\n",
    "Having SUM(CASE WHEN b.memid = 0 THEN f.guestcost * b.slots \\\n",
    "           \t\t ELSE f.membercost * b.slots END) < 1000 \\\n",
    "ORDER BY 'Total Revenue'\" \n",
    "\n",
    "rs10 = curs.execute(sql_query10).fetchall()\n",
    "for r in rs10:\n",
    "    print(r)"
   ]
  },
  {
   "cell_type": "markdown",
   "id": "37df77d3-458e-4d15-b36e-e2d0bb7f275e",
   "metadata": {},
   "source": [
    "***Q11***: Produce a report of members and who recommended them in alphabetic surname,firstname order \n"
   ]
  },
  {
   "cell_type": "code",
   "execution_count": 41,
   "id": "41858b24-4a7c-4370-a800-5dd67f28e858",
   "metadata": {},
   "outputs": [
    {
     "name": "stdout",
     "output_type": "stream",
     "text": [
      "(15, 'Bader', 'Florence', 'Stibbons Ponder')\n",
      "(12, 'Baker', 'Anne', 'Stibbons Ponder')\n",
      "(16, 'Baker', 'Timothy', 'Farrell Jemima')\n",
      "(8, 'Boothe', 'Tim', 'Rownam Tim')\n",
      "(5, 'Butters', 'Gerald', 'Smith Darren')\n",
      "(22, 'Coplin', 'Joan', 'Baker Timothy')\n",
      "(36, 'Crumpet', 'Erica', 'Smith Tracy')\n",
      "(7, 'Dare', 'Nancy', 'Joplette Janice')\n",
      "(28, 'Farrell', 'David', None)\n",
      "(13, 'Farrell', 'Jemima', None)\n",
      "(0, 'GUEST', 'GUEST', None)\n",
      "(20, 'Genting', 'Matthew', 'Butters Gerald')\n",
      "(35, 'Hunt', 'John', 'Purview Millicent')\n",
      "(11, 'Jones', 'David', 'Joplette Janice')\n",
      "(26, 'Jones', 'Douglas', 'Jones David')\n",
      "(4, 'Joplette', 'Janice', 'Smith Darren')\n",
      "(21, 'Mackenzie', 'Anna', 'Smith Darren')\n",
      "(10, 'Owen', 'Charles', 'Smith Darren')\n",
      "(17, 'Pinker', 'David', 'Farrell Jemima')\n",
      "(30, 'Purview', 'Millicent', 'Smith Tracy')\n",
      "(3, 'Rownam', 'Tim', None)\n",
      "(27, 'Rumney', 'Henrietta', 'Genting Matthew')\n",
      "(24, 'Sarwin', 'Ramnaresh', 'Bader Florence')\n",
      "(1, 'Smith', 'Darren', None)\n",
      "(37, 'Smith', 'Darren', None)\n",
      "(14, 'Smith', 'Jack', 'Smith Darren')\n",
      "(2, 'Smith', 'Tracy', None)\n",
      "(9, 'Stibbons', 'Ponder', 'Tracy Burton')\n",
      "(6, 'Tracy', 'Burton', None)\n",
      "(33, 'Tupperware', 'Hyacinth', None)\n",
      "(29, 'Worthington-Smyth', 'Henry', 'Smith Tracy')\n"
     ]
    }
   ],
   "source": [
    "sql_query11 = \"SELECT mem.memid,mem.surname,mem.firstname, (rec.surname||' '||rec.firstname) AS 'Recommended by' \\\n",
    "FROM Members as mem \\\n",
    "LEFT JOIN Members AS rec \\\n",
    "ON mem.recommendedby = rec.memid \\\n",
    "ORDER BY  mem.surname,mem.firstname;\" \n",
    "\n",
    "rs11 = curs.execute(sql_query11).fetchall()\n",
    "for r in rs11:\n",
    "    print(r)"
   ]
  },
  {
   "cell_type": "markdown",
   "id": "ac51496d-32fe-42e7-8f7d-565a5cbb38d1",
   "metadata": {},
   "source": [
    "***Q12***: Find the facilities with their usage by member, but not guests"
   ]
  },
  {
   "cell_type": "code",
   "execution_count": 45,
   "id": "509ae368-01c5-4f32-a5ca-1cf1b562ca47",
   "metadata": {},
   "outputs": [
    {
     "name": "stdout",
     "output_type": "stream",
     "text": [
      "('Tennis Court 1', 308)\n",
      "('Tennis Court 2', 276)\n",
      "('Badminton Court', 344)\n",
      "('Table Tennis', 385)\n",
      "('Massage Room 1', 421)\n",
      "('Massage Room 2', 27)\n",
      "('Squash Court', 195)\n",
      "('Snooker Table', 421)\n",
      "('Pool Table', 783)\n"
     ]
    }
   ],
   "source": [
    "sql_query12 = \"SELECT f.name,count(*) AS times_used \\\n",
    "FROM Facilities as f \\\n",
    "LEFT JOIN Bookings as b \\\n",
    "ON f.facid = b.facid \\\n",
    "WHERE b.memid <> 0 \\\n",
    "GROUP BY b.facid;\" \n",
    "\n",
    "rs12 = curs.execute(sql_query12).fetchall()\n",
    "for r in rs12:\n",
    "    print(r)"
   ]
  },
  {
   "cell_type": "markdown",
   "id": "c09db2dd-db0c-416e-81e3-b98751e28fc0",
   "metadata": {},
   "source": [
    "***Q13***: Find the facilities usage by month, but not guests "
   ]
  },
  {
   "cell_type": "code",
   "execution_count": 49,
   "id": "7bc38f40-1a76-441f-b37d-c165d387ae6b",
   "metadata": {},
   "outputs": [
    {
     "name": "stdout",
     "output_type": "stream",
     "text": [
      "('Tennis Court 1', '07', 65)\n",
      "('Tennis Court 1', '08', 111)\n",
      "('Tennis Court 1', '09', 132)\n",
      "('Tennis Court 2', '07', 41)\n",
      "('Tennis Court 2', '08', 109)\n",
      "('Tennis Court 2', '09', 126)\n",
      "('Badminton Court', '07', 51)\n",
      "('Badminton Court', '08', 132)\n",
      "('Badminton Court', '09', 161)\n",
      "('Table Tennis', '07', 48)\n",
      "('Table Tennis', '08', 143)\n",
      "('Table Tennis', '09', 194)\n",
      "('Massage Room 1', '07', 77)\n",
      "('Massage Room 1', '08', 153)\n",
      "('Massage Room 1', '09', 191)\n",
      "('Massage Room 2', '07', 4)\n",
      "('Massage Room 2', '08', 9)\n",
      "('Massage Room 2', '09', 14)\n",
      "('Squash Court', '07', 23)\n",
      "('Squash Court', '08', 85)\n",
      "('Squash Court', '09', 87)\n",
      "('Snooker Table', '07', 68)\n",
      "('Snooker Table', '08', 154)\n",
      "('Snooker Table', '09', 199)\n",
      "('Pool Table', '07', 103)\n",
      "('Pool Table', '08', 272)\n",
      "('Pool Table', '09', 408)\n"
     ]
    }
   ],
   "source": [
    "sql_query13 = \"SELECT f.name,strftime('%m', b.starttime) AS month,count(*) AS times_used \\\n",
    "FROM Facilities as f \\\n",
    "LEFT JOIN Bookings as b \\\n",
    "ON f.facid = b.facid \\\n",
    "WHERE b.memid <> 0 \\\n",
    "GROUP BY b.facid, month;\" \n",
    "\n",
    "rs13 = curs.execute(sql_query13).fetchall()\n",
    "for r in rs13:\n",
    "    print(r)"
   ]
  }
 ],
 "metadata": {
  "kernelspec": {
   "display_name": "Python 3 (ipykernel)",
   "language": "python",
   "name": "python3"
  },
  "language_info": {
   "codemirror_mode": {
    "name": "ipython",
    "version": 3
   },
   "file_extension": ".py",
   "mimetype": "text/x-python",
   "name": "python",
   "nbconvert_exporter": "python",
   "pygments_lexer": "ipython3",
   "version": "3.11.7"
  }
 },
 "nbformat": 4,
 "nbformat_minor": 5
}
